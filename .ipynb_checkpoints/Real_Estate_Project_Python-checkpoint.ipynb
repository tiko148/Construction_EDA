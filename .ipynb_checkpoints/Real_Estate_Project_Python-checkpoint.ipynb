{
 "cells": [
  {
   "cell_type": "code",
   "execution_count": 9,
   "id": "81bfb52a",
   "metadata": {},
   "outputs": [
    {
     "data": {
      "text/html": [
       "        <script type=\"text/javascript\">\n",
       "        window.PlotlyConfig = {MathJaxConfig: 'local'};\n",
       "        if (window.MathJax) {MathJax.Hub.Config({SVG: {font: \"STIX-Web\"}});}\n",
       "        if (typeof require !== 'undefined') {\n",
       "        require.undef(\"plotly\");\n",
       "        requirejs.config({\n",
       "            paths: {\n",
       "                'plotly': ['https://cdn.plot.ly/plotly-2.8.3.min']\n",
       "            }\n",
       "        });\n",
       "        require(['plotly'], function(Plotly) {\n",
       "            window._Plotly = Plotly;\n",
       "        });\n",
       "        }\n",
       "        </script>\n",
       "        "
      ]
     },
     "metadata": {},
     "output_type": "display_data"
    }
   ],
   "source": [
    "import pandas as pd\n",
    "import numpy as np\n",
    "import chart_studio.plotly as py\n",
    "import seaborn as sns\n",
    "import plotly.express as px\n",
    "import cufflinks as cf\n",
    "%matplotlib inline\n",
    "from plotly.offline import download_plotlyjs, init_notebook_mode, plot, iplot\n",
    "#init_notebook_mode(connected = True)\n",
    "cf.go_offline()\n",
    "import plotly.graph_objects as go"
   ]
  },
  {
   "cell_type": "code",
   "execution_count": 10,
   "id": "6abf16b1",
   "metadata": {},
   "outputs": [],
   "source": [
    "'''Setting option for pandas to show maximum rows and columns'''\n",
    "\n",
    "pd.set_option(\"display.max_columns\", None)\n",
    "pd.set_option(\"display.max_rows\", None)"
   ]
  },
  {
   "cell_type": "code",
   "execution_count": null,
   "id": "ff40d3a4",
   "metadata": {},
   "outputs": [],
   "source": []
  },
  {
   "cell_type": "code",
   "execution_count": 12,
   "id": "fabf6741",
   "metadata": {},
   "outputs": [
    {
     "data": {
      "text/plain": [
       "\"\\nFile 1 --> 'new_price_by_region' --> new houses sold in 4 regions based on price range of homes.\\nFile 2 --> 'auth_not_started.csv' --> authorized permits but not yet started homes. \\nFile 3 --> 'sold_finance_type.csv' -- > the type if financing for a loan and the rate of change.\\nFile 4 --> houses_sold_by_sales_price_USA.csv' -->New Houses sold in the USA based on price range.\\n\\n\\n\\n\""
      ]
     },
     "execution_count": 12,
     "metadata": {},
     "output_type": "execute_result"
    }
   ],
   "source": [
    "'''\n",
    "File 1 --> 'new_price_by_region' --> new houses sold in 4 regions based on price range of homes.\n",
    "File 2 --> 'auth_not_started.csv' --> authorized permits but not yet started homes. \n",
    "File 3 --> 'sold_finance_type.csv' -- > the type if financing for a loan and the rate of change.\n",
    "File 4 --> houses_sold_by_sales_price_USA.csv' -->New Houses sold in the USA based on price range.\n",
    "\n",
    "\n",
    "\n",
    "'''"
   ]
  },
  {
   "cell_type": "code",
   "execution_count": 13,
   "id": "8c47414c",
   "metadata": {},
   "outputs": [],
   "source": [
    "import pandas as pd\n",
    "\n",
    "#File 1\n",
    "auth_not_started = pd.read_csv('auth_not_started.csv',index_col=0)\n",
    "\n",
    "#File 2\n",
    "new_price_by_region = pd.read_csv('new_price_by_region', index_col=0)\n",
    "\n",
    "#File 3\n",
    "sold_finance_type =  pd.read_csv('sold_finance_type.csv', index_col=0)\n",
    "\n",
    "#File 4\n",
    "\n",
    "by_sales_price_USA = pd.read_csv('houses_sold_by_sales_price_USA.csv', index_col = 0)\n",
    "\n",
    "\n"
   ]
  },
  {
   "cell_type": "code",
   "execution_count": null,
   "id": "56e7d684",
   "metadata": {},
   "outputs": [],
   "source": []
  }
 ],
 "metadata": {
  "kernelspec": {
   "display_name": "Python 3 (ipykernel)",
   "language": "python",
   "name": "python3"
  },
  "language_info": {
   "codemirror_mode": {
    "name": "ipython",
    "version": 3
   },
   "file_extension": ".py",
   "mimetype": "text/x-python",
   "name": "python",
   "nbconvert_exporter": "python",
   "pygments_lexer": "ipython3",
   "version": "3.9.7"
  }
 },
 "nbformat": 4,
 "nbformat_minor": 5
}
