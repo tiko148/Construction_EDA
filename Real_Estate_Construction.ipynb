{
 "cells": [
  {
   "cell_type": "code",
   "execution_count": null,
   "id": "e70e63ba",
   "metadata": {},
   "outputs": [],
   "source": [
    "import pandas as pd\n",
    "import numpy as np\n",
    "import chart_studio.plotly as py\n",
    "import seaborn as sns\n",
    "import plotly.express as px\n",
    "import cufflinks as cf\n",
    "%matplotlib inline\n",
    "from plotly.offline import download_plotlyjs, init_notebook_mode, plot, iplot\n",
    "#init_notebook_mode(connected = True)\n",
    "cf.go_offline()\n",
    "import plotly.graph_objects as go"
   ]
  },
  {
   "cell_type": "code",
   "execution_count": null,
   "id": "aa6ae3d2",
   "metadata": {},
   "outputs": [],
   "source": [
    "North_East = pd.read_excel(\"New_Houses_Sold_region_SalesPrice.xls\",sheet_name=\"QtrSalGrp Reg Pct\",header=None, names=[\"Period\", \"Total\", \"Under 200K\", \"200-299\",\"300-499\",\n",
    "                                                                 \"500-749,999\",\"750 and up\",],skiprows=69, nrows= 20, \n",
    "                                                                  index_col = None, usecols=\"A:G\")\n",
    "North_East['Region'] = 'North East'\n",
    "North_East.set_index('Period', inplace =True)\n",
    "\n",
    "\n",
    "Mid_West = pd.read_excel(\"New_Houses_Sold_region_SalesPrice.xls\",sheet_name=\"QtrSalGrp Reg Pct\",header=None, names=[\"Period\", \"Total\", \"Under 200K\", \"200-299\",\"300-499\",\n",
    "                                                                 \"500-749,999\",\"750 and up\",],skiprows=69, nrows= 20, \n",
    "                                                                  index_col = None, usecols=\"A,H:M\")\n",
    "\n",
    "\n",
    "Mid_West"
   ]
  }
 ],
 "metadata": {
  "kernelspec": {
   "display_name": "Python 3 (ipykernel)",
   "language": "python",
   "name": "python3"
  },
  "language_info": {
   "codemirror_mode": {
    "name": "ipython",
    "version": 3
   },
   "file_extension": ".py",
   "mimetype": "text/x-python",
   "name": "python",
   "nbconvert_exporter": "python",
   "pygments_lexer": "ipython3",
   "version": "3.9.7"
  }
 },
 "nbformat": 4,
 "nbformat_minor": 5
}
